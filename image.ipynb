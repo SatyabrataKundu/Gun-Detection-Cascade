{
  "nbformat": 4,
  "nbformat_minor": 0,
  "metadata": {
    "colab": {
      "name": "image.ipynb",
      "version": "0.3.2",
      "provenance": [],
      "collapsed_sections": [],
      "include_colab_link": true
    },
    "kernelspec": {
      "name": "python3",
      "display_name": "Python 3"
    }
  },
  "cells": [
    {
      "cell_type": "markdown",
      "metadata": {
        "id": "view-in-github",
        "colab_type": "text"
      },
      "source": [
        "<a href=\"https://colab.research.google.com/github/ashish-bhavsar-persistent/Gun-Detection-Cascade/blob/master/image.ipynb\" target=\"_parent\"><img src=\"https://colab.research.google.com/assets/colab-badge.svg\" alt=\"Open In Colab\"/></a>"
      ]
    },
    {
      "metadata": {
        "id": "jXJUBe_xz2q5",
        "colab_type": "code",
        "colab": {
          "base_uri": "https://localhost:8080/",
          "height": 34
        },
        "outputId": "37b9354f-3bfd-47bc-cffe-3d28e656b7ca"
      },
      "cell_type": "code",
      "source": [
        "!ls\n"
      ],
      "execution_count": 8,
      "outputs": [
        {
          "output_type": "stream",
          "text": [
            "neg\n"
          ],
          "name": "stdout"
        }
      ]
    },
    {
      "metadata": {
        "id": "j1zXMTatz4Bg",
        "colab_type": "code",
        "colab": {}
      },
      "cell_type": "code",
      "source": [
        "import urllib.request\n",
        "import cv2\n",
        "import numpy as np\n",
        "import os\n",
        "\n",
        "def store_raw_images():\n",
        "    neg_images_link ='http://image-net.org/api/text/imagenet.synset.geturls?wnid=n00523513'\n",
        "    neg_image_urls = urllib.request.urlopen(neg_images_link).read().decode()\n",
        "    if not os.path.exists('neg'):\n",
        "        os.makedirs('neg')\n",
        "    pic_num = 24\n",
        "    img_count = 0\n",
        "    for i in neg_image_urls.split('\\n'):\n",
        "        try:\n",
        "            print(i)\n",
        "            img_count += 1\n",
        "            print(str(img_count))\n",
        "            urllib.request.urlretrieve(i,'neg/'+str(pic_num)+'.jpg')\n",
        "            img = cv2.imread(\"neg/\"+str(pic_num)+\".jpg\", cv2.IMREAD_GRAYSCALE)\n",
        "            resized_image = cv2.resize(img,(100,100))\n",
        "            cv2.imwrite('neg/'+str(pic_num)+'.jpg', resized_image)\n",
        "            pic_num+=1\n",
        "        except Exception as e:\n",
        "            print(e)\n",
        "    print('Done')\n",
        "store_raw_images()\n"
      ],
      "execution_count": 0,
      "outputs": []
    }
  ]
}